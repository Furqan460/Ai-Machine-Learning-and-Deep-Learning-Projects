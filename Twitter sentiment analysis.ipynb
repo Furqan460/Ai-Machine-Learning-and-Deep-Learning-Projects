{
 "cells": [
  {
   "cell_type": "code",
   "execution_count": 52,
   "id": "fb6f41cc-b81e-4c23-86ae-e47f3990e991",
   "metadata": {},
   "outputs": [
    {
     "ename": "SyntaxError",
     "evalue": "invalid syntax (120234898.py, line 14)",
     "output_type": "error",
     "traceback": [
      "\u001b[1;36m  Cell \u001b[1;32mIn[52], line 14\u001b[1;36m\u001b[0m\n\u001b[1;33m    [nltk_data] Downloading package stopwords to /usr/share/nltk_data...\u001b[0m\n\u001b[1;37m                ^\u001b[0m\n\u001b[1;31mSyntaxError\u001b[0m\u001b[1;31m:\u001b[0m invalid syntax\n"
     ]
    }
   ],
   "source": [
    "import seaborn as sns \n",
    "import matplotlib.pyplot as plt \n",
    "import re\n",
    "import nltk\n",
    "from sklearn.feature_extraction.text import CountVectorizer #Data transformation\n",
    "from sklearn.model_selection import train_test_split #Data testing\n",
    "from sklearn.linear_model import LogisticRegression #Prediction Model\n",
    "from sklearn.metrics import accuracy_score #Comparison between real and predicted\n",
    "from wordcloud import WordCloud #Word visualization\n",
    "from nltk import word_tokenize\n",
    "nltk.download('stopwords')\n",
    "import numpy as np \n",
    "import pandas as pd\n",
    "[nltk_data] Downloading package stopwords to /usr/share/nltk_data...\n",
    "[nltk_data]   Package stopwords is already up-to-date!"
   ]
  },
  {
   "cell_type": "code",
   "execution_count": null,
   "id": "ead2d2f4-ac8a-44d9-8346-94bf623a81c5",
   "metadata": {},
   "outputs": [],
   "source": []
  }
 ],
 "metadata": {
  "kernelspec": {
   "display_name": "Python 3 (ipykernel)",
   "language": "python",
   "name": "python3"
  },
  "language_info": {
   "codemirror_mode": {
    "name": "ipython",
    "version": 3
   },
   "file_extension": ".py",
   "mimetype": "text/x-python",
   "name": "python",
   "nbconvert_exporter": "python",
   "pygments_lexer": "ipython3",
   "version": "3.11.5"
  }
 },
 "nbformat": 4,
 "nbformat_minor": 5
}
